{
 "cells": [
  {
   "cell_type": "markdown",
   "id": "f4d5e505",
   "metadata": {},
   "source": [
    "# Task 2 : Lookalike Model"
   ]
  },
  {
   "cell_type": "markdown",
   "id": "4c0a549b",
   "metadata": {},
   "source": [
    "### 1. Load the Data"
   ]
  },
  {
   "cell_type": "code",
   "execution_count": 1,
   "id": "15d39a81",
   "metadata": {},
   "outputs": [
    {
     "name": "stdout",
     "output_type": "stream",
     "text": [
      "  CustomerID        CustomerName         Region  SignupDate\n",
      "0      C0001    Lawrence Carroll  South America  2022-07-10\n",
      "1      C0002      Elizabeth Lutz           Asia  2022-02-13\n",
      "2      C0003      Michael Rivera  South America  2024-03-07\n",
      "3      C0004  Kathleen Rodriguez  South America  2022-10-09\n",
      "4      C0005         Laura Weber           Asia  2022-08-15\n",
      "  ProductID              ProductName     Category   Price\n",
      "0      P001     ActiveWear Biography        Books  169.30\n",
      "1      P002    ActiveWear Smartwatch  Electronics  346.30\n",
      "2      P003  ComfortLiving Biography        Books   44.12\n",
      "3      P004            BookWorld Rug   Home Decor   95.69\n",
      "4      P005          TechPro T-Shirt     Clothing  429.31\n",
      "  TransactionID CustomerID ProductID      TransactionDate  Quantity  \\\n",
      "0        T00001      C0199      P067  2024-08-25 12:38:23         1   \n",
      "1        T00112      C0146      P067  2024-05-27 22:23:54         1   \n",
      "2        T00166      C0127      P067  2024-04-25 07:38:55         1   \n",
      "3        T00272      C0087      P067  2024-03-26 22:55:37         2   \n",
      "4        T00363      C0070      P067  2024-03-21 15:10:10         3   \n",
      "\n",
      "   TotalValue   Price  \n",
      "0      300.68  300.68  \n",
      "1      300.68  300.68  \n",
      "2      300.68  300.68  \n",
      "3      601.36  300.68  \n",
      "4      902.04  300.68  \n"
     ]
    }
   ],
   "source": [
    "import pandas as pd\n",
    "\n",
    "# Load datasets\n",
    "customers = pd.read_csv('Customers.csv')\n",
    "products = pd.read_csv('Products.csv')\n",
    "transactions = pd.read_csv('Transactions.csv')\n",
    "\n",
    "# Display the first few rows of each dataframe\n",
    "print(customers.head())\n",
    "print(products.head())\n",
    "print(transactions.head())\n"
   ]
  },
  {
   "cell_type": "markdown",
   "id": "7a9b5322",
   "metadata": {},
   "source": [
    "### 2. Data Preparation\n",
    "* Merge transaction data with customer profiles to create comprehensive customer profiles.\n",
    "* Aggregate relevant features such as total spending and quantity purchased."
   ]
  },
  {
   "cell_type": "code",
   "execution_count": 2,
   "id": "e1d14c6a",
   "metadata": {},
   "outputs": [
    {
     "name": "stdout",
     "output_type": "stream",
     "text": [
      "  CustomerID  TotalValue  Quantity         Region\n",
      "0      C0001     3354.52        12  South America\n",
      "1      C0002     1862.74        10           Asia\n",
      "2      C0003     2725.38        14  South America\n",
      "3      C0004     5354.88        23  South America\n",
      "4      C0005     2034.24         7           Asia\n"
     ]
    }
   ],
   "source": [
    "# Merge transactions with customer data to create customer profiles\n",
    "customer_profiles = transactions.merge(customers, on='CustomerID')\n",
    "\n",
    "# Aggregate transaction data to create a profile for each customer\n",
    "customer_profile_data = customer_profiles.groupby('CustomerID').agg({\n",
    "    'TotalValue': 'sum',       # Total spending\n",
    "    'Quantity': 'sum',         # Total quantity purchased\n",
    "    'Region': 'first'          # Keep region information\n",
    "}).reset_index()\n",
    "\n",
    "# Display the aggregated customer profile data\n",
    "print(customer_profile_data.head())\n"
   ]
  },
  {
   "cell_type": "markdown",
   "id": "64616319",
   "metadata": {},
   "source": [
    "### 3. Calculate Similarity Scores\n",
    "* Standardize features to ensure comparability.\n",
    "* Calculate cosine similarity scores between customers based on their aggregated transaction data."
   ]
  },
  {
   "cell_type": "code",
   "execution_count": 3,
   "id": "9026aeb9",
   "metadata": {},
   "outputs": [],
   "source": [
    "from sklearn.metrics.pairwise import cosine_similarity\n",
    "from sklearn.preprocessing import StandardScaler\n",
    "\n",
    "# Standardize the feature columns for similarity calculation\n",
    "features = customer_profile_data[['TotalValue', 'Quantity']]\n",
    "scaler = StandardScaler()\n",
    "scaled_features = scaler.fit_transform(features)\n",
    "\n",
    "# Calculate cosine similarity matrix\n",
    "similarity_matrix = cosine_similarity(scaled_features)\n",
    "\n",
    "# Convert similarity matrix to a DataFrame for easier lookup\n",
    "similarity_df = pd.DataFrame(similarity_matrix, index=customer_profile_data['CustomerID'], columns=customer_profile_data['CustomerID'])\n"
   ]
  },
  {
   "cell_type": "markdown",
   "id": "4f423d0d",
   "metadata": {},
   "source": [
    "### 4. Generate Lookalike Recommendations\n",
    "* For each of the first 20 customers (C0001 to C0020), identify the top three lookalike customers based on similarity scores.\n",
    "* Store the results in a structured format for easy access.\n",
    "* Save the recommendations and their corresponding similarity scores into a CSV file named \"Lookalike_Customers.csv\"."
   ]
  },
  {
   "cell_type": "code",
   "execution_count": 4,
   "id": "43d3ea36",
   "metadata": {},
   "outputs": [],
   "source": [
    "lookalike_results = {}\n",
    "\n",
    "# Loop through each of the first 20 customers to find their lookalikes\n",
    "for customer in customer_profile_data['CustomerID'].head(20):\n",
    "    # Get the top 4 similar customers (including themselves)\n",
    "    similar_customers = similarity_df[customer].nlargest(4).index.tolist()\n",
    "    \n",
    "    # Exclude the customer themselves and get the top 3 lookalikes\n",
    "    lookalike_results[customer] = [(similar_customers[i], similarity_df[customer][similar_customers[i]]) for i in range(1, 4)]\n",
    "\n",
    "# Convert results to DataFrame for output\n",
    "lookalike_df = pd.DataFrame.from_dict(lookalike_results, orient='index', columns=['Lookalike1', 'Lookalike2', 'Lookalike3'])\n",
    "lookalike_df['Score1'] = lookalike_df['Lookalike1'].apply(lambda x: similarity_df.loc[x[0], x[0]])\n",
    "lookalike_df['Score2'] = lookalike_df['Lookalike2'].apply(lambda x: similarity_df.loc[x[0], x[0]])\n",
    "lookalike_df['Score3'] = lookalike_df['Lookalike3'].apply(lambda x: similarity_df.loc[x[0], x[0]])\n",
    "\n",
    "# Save to CSV file\n",
    "lookalike_df.to_csv('Lookalike_Customers.csv', index=True)\n"
   ]
  },
  {
   "cell_type": "markdown",
   "id": "c7e7efbd",
   "metadata": {},
   "source": [
    "## Evaluation Criteria\n",
    "\n",
    "### 1. Model Accuracy and Logic:\n",
    "* The model uses cosine similarity to measure how closely related two customers are based on their purchasing behavior (total value and quantity).\n",
    "* By standardizing the features before calculating similarity, we ensure that all variables contribute equally to the distance metric, enhancing the accuracy of the recommendations.\n",
    "* The use of aggregated transaction data provides a comprehensive view of each customer's behavior, which is critical for accurate similarity assessments."
   ]
  },
  {
   "cell_type": "markdown",
   "id": "97e8160b",
   "metadata": {},
   "source": [
    "### 2. Quality of Recommendations and Similarity Scores:\n",
    "* The recommendations are based on high similarity scores (close to 1), indicating strong behavioral similarities among customers.\n",
    "* For example, if Customer C0001 has lookalikes with scores above 0.99, it suggests that these customers have very similar purchasing patterns, making them ideal targets for marketing strategies aimed at C0001.\n",
    "* The model provides actionable insights by identifying not just any similar customers but those with the highest likelihood of responding positively to targeted campaigns."
   ]
  },
  {
   "cell_type": "markdown",
   "id": "6ecefe62",
   "metadata": {},
   "source": [
    "## Business Insights from the Model\n",
    "* The model provides insights into which customers share similar purchasing behaviors, allowing targeted marketing efforts.\n",
    "* Recommendations can enhance customer acquisition strategies by focusing on high-value lookalikes.\n",
    "* Understanding similarity scores helps prioritize engagement with customers most likely to convert.\n"
   ]
  },
  {
   "cell_type": "markdown",
   "id": "b231a86b",
   "metadata": {},
   "source": [
    "## Conclusion\n",
    "The Lookalike Model effectively identifies similar customers by analyzing their profiles and transaction histories. The use of cosine similarity ensures that the recommendations are based on actual behavioral data, enhancing the relevance of marketing efforts."
   ]
  },
  {
   "cell_type": "code",
   "execution_count": null,
   "id": "c1e12506",
   "metadata": {},
   "outputs": [],
   "source": []
  }
 ],
 "metadata": {
  "kernelspec": {
   "display_name": "Python 3 (ipykernel)",
   "language": "python",
   "name": "python3"
  },
  "language_info": {
   "codemirror_mode": {
    "name": "ipython",
    "version": 3
   },
   "file_extension": ".py",
   "mimetype": "text/x-python",
   "name": "python",
   "nbconvert_exporter": "python",
   "pygments_lexer": "ipython3",
   "version": "3.10.9"
  }
 },
 "nbformat": 4,
 "nbformat_minor": 5
}
